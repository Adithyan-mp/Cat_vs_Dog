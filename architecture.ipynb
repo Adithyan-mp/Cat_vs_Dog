{
 "cells": [
  {
   "cell_type": "code",
   "execution_count": 8,
   "metadata": {},
   "outputs": [],
   "source": [
    "import numpy as np\n",
    "import os\n",
    "import matplotlib.pyplot as plt\n",
    "import pandas as pd\n",
    "import tensorflow as tf\n",
    "from tensorflow.keras.preprocessing import image_dataset_from_directory\n",
    "from tensorflow.keras.models import Sequential\n",
    "from tensorflow.keras.layers import Dense,Flatten\n",
    "from tensorflow.keras.losses import BinaryCrossentropy\n",
    "from tensorflow.keras.optimizers import Adam\n",
    "from tensorflow.keras.regularizers import l2\n",
    "from sklearn.preprocessing import StandardScaler"
   ]
  },
  {
   "cell_type": "code",
   "execution_count": 9,
   "metadata": {},
   "outputs": [],
   "source": [
    "dir_path='prepared_dataset'\n",
    "\n",
    "#training dataset\n",
    "x_train=np.load(os.path.join(dir_path,'train_images.npy'))\n",
    "y_train=np.load(os.path.join(dir_path,'train_labels.npy'))\n",
    "\n",
    "#cross validation dataset\n",
    "x_cv=np.load(os.path.join(dir_path,'cross_validation_images.npy'))\n",
    "y_cv=np.load(os.path.join(dir_path,'cross_validation_labels.npy'))\n",
    "\n",
    "#test dataset\n",
    "x_test=np.load(os.path.join(dir_path,'test_images.npy'))\n",
    "y_test=np.load(os.path.join(dir_path,'test_labels.npy'))"
   ]
  },
  {
   "cell_type": "code",
   "execution_count": 10,
   "metadata": {},
   "outputs": [],
   "source": [
    "y_train=np.expand_dims(y_train,axis=1)\n",
    "y_cv=np.expand_dims(y_cv,axis=1)\n",
    "y_test=np.expand_dims(y_test,axis=1)"
   ]
  },
  {
   "cell_type": "code",
   "execution_count": 11,
   "metadata": {},
   "outputs": [
    {
     "name": "stdout",
     "output_type": "stream",
     "text": [
      "shape of X_train,y_train = (445, 278, 278, 3),(445, 1) \n",
      "shape of X_cv,y_cv = (56, 278, 278, 3),(56, 1) \n",
      "shape of X_test,y_test = (56, 278, 278, 3),(56, 1)\n"
     ]
    }
   ],
   "source": [
    "print(f\"shape of X_train,y_train = {x_train.shape},{y_train.shape} \\n\"+\n",
    "      f\"shape of X_cv,y_cv = {x_cv.shape},{y_cv.shape} \\n\"+\n",
    "      f\"shape of X_test,y_test = {x_test.shape},{y_test.shape}\")"
   ]
  },
  {
   "cell_type": "code",
   "execution_count": 12,
   "metadata": {},
   "outputs": [
    {
     "name": "stdout",
     "output_type": "stream",
     "text": [
      "After reshaping : \n",
      "shape of X_train,y_train = (445, 231852),(445, 1) \n",
      "shape of X_cv,y_cv = (56, 231852),(56, 1) \n",
      "shape of X_test,y_test = (56, 231852),(56, 1)\n"
     ]
    }
   ],
   "source": [
    "features=278*278*3\n",
    "\n",
    "x_train_reshaped=x_train.reshape((445,features))\n",
    "x_cv_reshaped=x_cv.reshape((56,features))\n",
    "x_test_reshaped=x_test.reshape((56,features))\n",
    "\n",
    "print(\"After reshaping : \")\n",
    "print(f\"shape of X_train,y_train = {x_train_reshaped.shape},{y_train.shape} \\n\"+\n",
    "      f\"shape of X_cv,y_cv = {x_cv_reshaped.shape},{y_cv.shape} \\n\"+\n",
    "      f\"shape of X_test,y_test = {x_test_reshaped.shape},{y_test.shape}\")"
   ]
  },
  {
   "cell_type": "code",
   "execution_count": 13,
   "metadata": {},
   "outputs": [],
   "source": [
    "scaler=StandardScaler()\n",
    "x_train_reshaped_scaled=scaler.fit_transform(x_train_reshaped)\n",
    "x_cv_reshaped_scaled=scaler.transform(x_cv_reshaped)"
   ]
  },
  {
   "cell_type": "code",
   "execution_count": 14,
   "metadata": {},
   "outputs": [],
   "source": [
    "def build_model():\n",
    "    tf.random.set_seed(42)\n",
    "\n",
    "    model_1 = Sequential([\n",
    "        Dense(units=278, activation='relu', name='layer_1'),\n",
    "        Dense(units=128, activation='relu', name='layer_2'),\n",
    "        Dense(units=1, activation='linear', name='layer_3')\n",
    "    ], name='model_1')\n",
    "\n",
    "    model_2 = Sequential([\n",
    "        Dense(units=640, activation='relu', name='layer_1'),\n",
    "        Dense(units=325, activation='relu', name='layer_2'),\n",
    "        Dense(units=120, activation='relu', name='layer_3'),\n",
    "        Dense(units=1, activation='linear', name='layer_4')\n",
    "    ], name='model_2')\n",
    "\n",
    "    model_3 = Sequential([\n",
    "        Dense(units=278, activation='relu', name='layer_1'),\n",
    "        Dense(units=168, activation='relu', name='layer_2'),\n",
    "        Dense(units=84, activation='relu', name='layer_3'),\n",
    "        Dense(units=42, activation='relu', name='layer_4'),\n",
    "        Dense(units=21, activation='relu', name='layer_5'),\n",
    "        Dense(units=1, activation='linear', name='layer_6')\n",
    "    ], name='model_3')\n",
    "\n",
    "    model_4 = Sequential([\n",
    "        Dense(units=640, activation='relu', name='layer_1'),\n",
    "        Dense(units=325, activation='relu', name='layer_2'),\n",
    "        Dense(units=240, activation='relu', name='layer_3'),\n",
    "        Dense(units=120, activation='relu', name='layer_4'),\n",
    "        Dense(units=120, activation='relu', name='layer_5'),\n",
    "        Dense(units=40, activation='relu', name='layer_6'),\n",
    "        Dense(units=20, activation='relu', name='layer_7'),\n",
    "        Dense(units=1, activation='linear', name='layer_8')\n",
    "    ], name='model_4')\n",
    "\n",
    "    return [model_1, model_2, model_3, model_4]"
   ]
  },
  {
   "cell_type": "code",
   "execution_count": 15,
   "metadata": {},
   "outputs": [
    {
     "name": "stdout",
     "output_type": "stream",
     "text": [
      "Training model model_1..........\n",
      "Done....!\n",
      "14/14 [==============================] - 1s 47ms/step\n",
      "2/2 [==============================] - 0s 80ms/step\n",
      "Training model model_2..........\n",
      "Done....!\n",
      "14/14 [==============================] - 1s 95ms/step\n",
      "2/2 [==============================] - 0s 94ms/step\n",
      "Training model model_3..........\n",
      "Done....!\n",
      "14/14 [==============================] - 1s 48ms/step\n",
      "2/2 [==============================] - 0s 43ms/step\n",
      "Training model model_4..........\n",
      "Done....!\n",
      "14/14 [==============================] - 1s 93ms/step\n",
      "2/2 [==============================] - 0s 90ms/step\n"
     ]
    }
   ],
   "source": [
    "J_trains=[]\n",
    "J_cvs=[]\n",
    "histories=[]\n",
    "models=build_model()\n",
    "for model in models:\n",
    "    model.compile(optimizer=Adam(learning_rate=0.01),loss=BinaryCrossentropy(from_logits=True))\n",
    "\n",
    "    print(f\"Training model {model.name}..........\")\n",
    "    history=model.fit(x_train_reshaped_scaled,y_train,epochs=20,verbose=0)\n",
    "    print(\"Done....!\")\n",
    "    histories.append(history)\n",
    "\n",
    "    \n",
    "    #J_train\n",
    "    logits_train=model.predict(x_train_reshaped_scaled)\n",
    "    yhat_train=tf.nn.sigmoid(logits_train)\n",
    "    yhat_train=np.where(yhat_train>=0.5,1,0)\n",
    "    J_train=np.mean(yhat_train!=y_train)\n",
    "    J_trains.append(J_train)\n",
    "\n",
    "    #J_cv\n",
    "    logits_cv=model.predict(x_cv_reshaped_scaled)\n",
    "    yhat_cv=tf.nn.sigmoid(logits_cv)\n",
    "    yhat_cv=np.where(yhat_cv>=0.5,1,0)\n",
    "    J_cv=np.mean(yhat_cv!=y_cv)\n",
    "    J_cvs.append(J_cv)\n",
    "\n"
   ]
  },
  {
   "cell_type": "code",
   "execution_count": 16,
   "metadata": {},
   "outputs": [
    {
     "name": "stdout",
     "output_type": "stream",
     "text": [
      "RESULTS ======>\n",
      "model_1....... : J_train = 0.47191011235955055  J_cv = 0.48214285714285715  \n",
      "model_2....... : J_train = 0.1146067415730337  J_cv = 0.44642857142857145  \n",
      "model_3....... : J_train = 0.4853932584269663  J_cv = 0.5357142857142857  \n",
      "model_4....... : J_train = 0.4696629213483146  J_cv = 0.5357142857142857  \n"
     ]
    }
   ],
   "source": [
    "print(\"RESULTS ======>\")\n",
    "for i in range(len(J_trains)):\n",
    "    print(f\"{models[i].name}....... : \" + \n",
    "          f\"J_train = {J_trains[i]}  \" +\n",
    "          f\"J_cv = {J_cvs[i]}  \")"
   ]
  },
  {
   "cell_type": "code",
   "execution_count": 17,
   "metadata": {},
   "outputs": [
    {
     "data": {
      "image/png": "[encoded data removed]",
      "text/plain": [
       "<Figure size 640x480 with 1 Axes>"
      ]
     },
     "metadata": {},
     "output_type": "display_data"
    }
   ],
   "source": [
    "x_axis=np.arange(4)\n",
    "plt.plot(x_axis,J_trains,label='J_train')\n",
    "plt.plot(x_axis,J_cvs,label='J_cv')\n",
    "plt.legend()\n",
    "plt.show()"
   ]
  }
 ],
 "metadata": {
  "kernelspec": {
   "display_name": "Python 3",
   "language": "python",
   "name": "python3"
  },
  "language_info": {
   "codemirror_mode": {
    "name": "ipython",
    "version": 3
   },
   "file_extension": ".py",
   "mimetype": "text/x-python",
   "name": "python",
   "nbconvert_exporter": "python",
   "pygments_lexer": "ipython3",
   "version": "3.10.13"
  }
 },
 "nbformat": 4,
 "nbformat_minor": 2
}
