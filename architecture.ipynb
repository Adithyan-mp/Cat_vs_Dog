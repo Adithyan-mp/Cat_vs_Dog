{
 "cells": [
  {
   "cell_type": "code",
   "execution_count": 1,
   "metadata": {},
   "outputs": [],
   "source": [
    "import numpy as np\n",
    "import os\n",
    "import cv2\n",
    "import matplotlib.pyplot as plt\n",
    "import pandas as pd\n",
    "import tensorflow as tf\n",
    "from tensorflow.keras.preprocessing import image_dataset_from_directory\n",
    "from tensorflow.keras.models import Sequential\n",
    "from tensorflow.keras.layers import Dense,Flatten\n",
    "from tensorflow.keras.losses import BinaryCrossentropy\n",
    "from tensorflow.keras.optimizers import Adam"
   ]
  },
  {
   "cell_type": "code",
   "execution_count": 2,
   "metadata": {},
   "outputs": [
    {
     "name": "stdout",
     "output_type": "stream",
     "text": [
      "Found 557 files belonging to 2 classes.\n",
      "Using 446 files for training.\n",
      "Found 557 files belonging to 2 classes.\n",
      "Using 55 files for validation.\n",
      "Found 557 files belonging to 2 classes.\n",
      "Using 55 files for validation.\n"
     ]
    }
   ],
   "source": [
    "base_dir='train'\n",
    "# Create datasets\n",
    "train_datagen = image_dataset_from_directory(\n",
    "    base_dir,\n",
    "    image_size=(275, 275),\n",
    "    subset='training',\n",
    "    seed=1,\n",
    "    validation_split=0.2,  # Split 20% for validation\n",
    "    batch_size=32\n",
    ")\n",
    "\n",
    "val_datagen = image_dataset_from_directory(\n",
    "    base_dir,\n",
    "    image_size=(275, 275),\n",
    "    subset='validation',\n",
    "    seed=1,\n",
    "    validation_split=0.1,  # Split 20% for validation\n",
    "    batch_size=32\n",
    ")\n",
    "\n",
    "test_datagen = image_dataset_from_directory(\n",
    "    base_dir,\n",
    "    image_size=(275, 275),\n",
    "    subset='validation',  # Use the validation set as the test set\n",
    "    seed=1,\n",
    "    validation_split=0.1,  # No need to split further\n",
    "    batch_size=32\n",
    ")\n"
   ]
  },
  {
   "cell_type": "code",
   "execution_count": 3,
   "metadata": {},
   "outputs": [],
   "source": [
    "features = []\n",
    "labels = []\n",
    "\n",
    "for images, labels_batch in train_datagen:\n",
    "    features.extend(images.numpy())\n",
    "    labels.extend(labels_batch.numpy())\n",
    "\n",
    "# Convert lists to numpy arrays\n",
    "x_train = np.array(features)\n",
    "y_train = np.array(labels)"
   ]
  },
  {
   "cell_type": "code",
   "execution_count": 40,
   "metadata": {},
   "outputs": [],
   "source": [
    "features = []\n",
    "labels = []\n",
    "\n",
    "for images,label in val_datagen:\n",
    "    features.extend(images.numpy())\n",
    "    labels.extend(images.numpy())\n",
    "\n",
    "x_cv=np.array(features)\n",
    "y_cv=np.array(labels)"
   ]
  },
  {
   "cell_type": "code",
   "execution_count": 42,
   "metadata": {},
   "outputs": [],
   "source": [
    "def build_model():\n",
    "    input_size = (275, 275, 3)\n",
    "    tf.random.set_seed(42)\n",
    "\n",
    "    model_1 = Sequential([\n",
    "        Flatten(input_shape=input_size),\n",
    "        Dense(units=275, activation='relu', name='layer_1'),\n",
    "        Dense(units=128, activation='relu', name='layer_2'),\n",
    "        Dense(units=1, activation='linear', name='layer_3')\n",
    "    ], name='model_1')\n",
    "\n",
    "    model_2 = Sequential([\n",
    "        Flatten(input_shape=input_size),\n",
    "        Dense(units=640, activation='relu', name='layer_1'),\n",
    "        Dense(units=325, activation='relu', name='layer_2'),\n",
    "        Dense(units=120, activation='relu', name='layer_3'),\n",
    "        Dense(units=1, activation='linear', name='layer_4')\n",
    "    ], name='model_2')\n",
    "\n",
    "    model_3 = Sequential([\n",
    "        Flatten(input_shape=input_size),\n",
    "        Dense(units=275, activation='relu', name='layer_1'),\n",
    "        Dense(units=168, activation='relu', name='layer_2'),\n",
    "        Dense(units=84, activation='relu', name='layer_3'),\n",
    "        Dense(units=42, activation='relu', name='layer_4'),\n",
    "        Dense(units=21, activation='relu', name='layer_5'),\n",
    "        Dense(units=1, activation='linear', name='layer_6')\n",
    "    ], name='model_3')\n",
    "\n",
    "    model_4 = Sequential([\n",
    "        Flatten(input_shape=input_size),\n",
    "        Dense(units=640, activation='relu', name='layer_1'),\n",
    "        Dense(units=325, activation='relu', name='layer_2'),\n",
    "        Dense(units=240, activation='relu', name='layer_3'),\n",
    "        Dense(units=120, activation='relu', name='layer_4'),\n",
    "        Dense(units=120, activation='relu', name='layer_5'),\n",
    "        Dense(units=40, activation='relu', name='layer_6'),\n",
    "        Dense(units=20, activation='relu', name='layer_7'),\n",
    "        Dense(units=1, activation='linear', name='layer_8')\n",
    "    ], name='model_4')\n",
    "\n",
    "    return [model_1, model_2, model_3, model_4]"
   ]
  },
  {
   "cell_type": "code",
   "execution_count": 44,
   "metadata": {},
   "outputs": [
    {
     "name": "stderr",
     "output_type": "stream",
     "text": [
      "c:\\Users\\adith\\AppData\\Local\\Programs\\Python\\Python310\\lib\\site-packages\\keras\\src\\layers\\reshaping\\flatten.py:37: UserWarning: Do not pass an `input_shape`/`input_dim` argument to a layer. When using Sequential models, prefer using an `Input(shape)` object as the first layer in the model instead.\n",
      "  super().__init__(**kwargs)\n"
     ]
    },
    {
     "name": "stdout",
     "output_type": "stream",
     "text": [
      "Training model model_1..........\n",
      "Done....!\n",
      "\u001b[1m14/14\u001b[0m \u001b[32m━━━━━━━━━━━━━━━━━━━━\u001b[0m\u001b[37m\u001b[0m \u001b[1m1s\u001b[0m 46ms/step\n",
      "\u001b[1m2/2\u001b[0m \u001b[32m━━━━━━━━━━━━━━━━━━━━\u001b[0m\u001b[37m\u001b[0m \u001b[1m0s\u001b[0m 38ms/step\n",
      "Training model model_2..........\n"
     ]
    },
    {
     "name": "stderr",
     "output_type": "stream",
     "text": [
      "C:\\Users\\adith\\AppData\\Local\\Temp\\ipykernel_23248\\1349222911.py:25: DeprecationWarning: elementwise comparison failed; this will raise an error in the future.\n",
      "  J_cv=np.mean(yhat_cv!=y_cv)\n"
     ]
    },
    {
     "name": "stdout",
     "output_type": "stream",
     "text": [
      "Done....!\n",
      "\u001b[1m14/14\u001b[0m \u001b[32m━━━━━━━━━━━━━━━━━━━━\u001b[0m\u001b[37m\u001b[0m \u001b[1m2s\u001b[0m 119ms/step\n",
      "\u001b[1m2/2\u001b[0m \u001b[32m━━━━━━━━━━━━━━━━━━━━\u001b[0m\u001b[37m\u001b[0m \u001b[1m0s\u001b[0m 111ms/step\n",
      "Training model model_3..........\n",
      "Done....!\n",
      "\u001b[1m14/14\u001b[0m \u001b[32m━━━━━━━━━━━━━━━━━━━━\u001b[0m\u001b[37m\u001b[0m \u001b[1m1s\u001b[0m 64ms/step\n",
      "\u001b[1m2/2\u001b[0m \u001b[32m━━━━━━━━━━━━━━━━━━━━\u001b[0m\u001b[37m\u001b[0m \u001b[1m0s\u001b[0m 46ms/step\n",
      "Training model model_4..........\n",
      "Done....!\n",
      "\u001b[1m14/14\u001b[0m \u001b[32m━━━━━━━━━━━━━━━━━━━━\u001b[0m\u001b[37m\u001b[0m \u001b[1m2s\u001b[0m 110ms/step\n",
      "\u001b[1m2/2\u001b[0m \u001b[32m━━━━━━━━━━━━━━━━━━━━\u001b[0m\u001b[37m\u001b[0m \u001b[1m0s\u001b[0m 108ms/step\n"
     ]
    }
   ],
   "source": [
    "J_trains=[]\n",
    "J_cvs=[]\n",
    "histories=[]\n",
    "models=build_model()\n",
    "for model in models:\n",
    "    model.compile(optimizer=Adam(learning_rate=8e-3),loss=BinaryCrossentropy(from_logits=True))\n",
    "\n",
    "    print(f\"Training model {model.name}..........\")\n",
    "    history=model.fit(x_train,y_train,epochs=10,verbose=0)\n",
    "    print(\"Done....!\")\n",
    "    histories.append(history)\n",
    "\n",
    "    \n",
    "    #J_train\n",
    "    logits=model.predict(x_train)\n",
    "    yhat_train=tf.nn.sigmoid(logits)\n",
    "    yhat_train=np.where(yhat_train>=0.5,1,0)\n",
    "    J_train=np.mean(yhat_train!=y_train)\n",
    "    J_trains.append(J_train)\n",
    "\n",
    "    #J_cv\n",
    "    logits=model.predict(x_cv)\n",
    "    yhat_cv=tf.nn.sigmoid(logits)\n",
    "    yhat_cv=np.where(yhat_cv>=0.5,1,0)\n",
    "    J_cv=np.mean(yhat_cv!=y_cv)\n",
    "    J_cvs.append(J_cv)\n",
    "\n"
   ]
  },
  {
   "cell_type": "code",
   "execution_count": 47,
   "metadata": {},
   "outputs": [
    {
     "name": "stdout",
     "output_type": "stream",
     "text": [
      "RESULTS ======>\n",
      "model_1....... : J_train = 0.5040419071366808  J_cv = 1.0  \n",
      "model_2....... : J_train = 0.5040016891552213  J_cv = 1.0  \n",
      "model_3....... : J_train = 0.4973456132236723  J_cv = 1.0  \n",
      "model_4....... : J_train = 0.5044843049327354  J_cv = 1.0  \n"
     ]
    }
   ],
   "source": [
    "print(\"RESULTS ======>\")\n",
    "for i in range(len(J_trains)):\n",
    "    print(f\"{models[i].name}....... : \" + \n",
    "          f\"J_train = {J_trains[i]}  \" +\n",
    "          f\"J_cv = {J_cvs[i]}  \")"
   ]
  },
  {
   "cell_type": "code",
   "execution_count": 49,
   "metadata": {},
   "outputs": [
    {
     "data": {
      "image/png": "[encoded data removed]",
      "text/plain": [
       "<Figure size 640x480 with 1 Axes>"
      ]
     },
     "metadata": {},
     "output_type": "display_data"
    }
   ],
   "source": [
    "x_axis=np.arange(4)\n",
    "plt.plot(x_axis,J_trains,label='J_train')\n",
    "plt.plot(x_axis,J_cvs,label='J_cv')\n",
    "plt.legend()\n",
    "plt.show()"
   ]
  }
 ],
 "metadata": {
  "kernelspec": {
   "display_name": "Python 3",
   "language": "python",
   "name": "python3"
  },
  "language_info": {
   "codemirror_mode": {
    "name": "ipython",
    "version": 3
   },
   "file_extension": ".py",
   "mimetype": "text/x-python",
   "name": "python",
   "nbconvert_exporter": "python",
   "pygments_lexer": "ipython3",
   "version": "3.10.10"
  }
 },
 "nbformat": 4,
 "nbformat_minor": 2
}
