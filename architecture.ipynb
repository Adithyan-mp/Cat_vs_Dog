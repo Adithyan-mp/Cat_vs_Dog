{
 "cells": [
  {
   "cell_type": "code",
   "execution_count": 18,
   "metadata": {},
   "outputs": [],
   "source": [
    "import numpy as np\n",
    "import os\n",
    "import cv2\n",
    "import matplotlib.pyplot as plt\n",
    "import pandas as pd\n",
    "import tensorflow as tf\n",
    "from tensorflow.keras.preprocessing import image_dataset_from_directory\n",
    "from tensorflow.keras.models import Sequential\n",
    "from tensorflow.keras.layers import Dense,Flatten\n",
    "from tensorflow.keras.losses import BinaryCrossentropy\n",
    "from tensorflow.keras.optimizers import Adam\n",
    "from tensorflow.keras.regularizers import l2"
   ]
  },
  {
   "cell_type": "code",
   "execution_count": 19,
   "metadata": {},
   "outputs": [],
   "source": [
    "dir_path='prepared_dataset'\n",
    "\n",
    "#training dataset\n",
    "x_train=np.load(os.path.join(dir_path,'train_images.npy'))\n",
    "y_train=np.load(os.path.join(dir_path,'train_labels.npy'))\n",
    "\n",
    "#cross validation dataset\n",
    "x_cv=np.load(os.path.join(dir_path,'cross_validation_images.npy'))\n",
    "y_cv=np.load(os.path.join(dir_path,'cross_validation_labels.npy'))\n",
    "\n",
    "#test dataset\n",
    "x_test=np.load(os.path.join(dir_path,'test_images.npy'))\n",
    "y_test=np.load(os.path.join(dir_path,'test_labels.npy'))"
   ]
  },
  {
   "cell_type": "code",
   "execution_count": 20,
   "metadata": {},
   "outputs": [],
   "source": [
    "y_train=np.expand_dims(y_train,axis=1)\n",
    "y_cv=np.expand_dims(y_cv,axis=1)\n",
    "y_test=np.expand_dims(y_test,axis=1)"
   ]
  },
  {
   "cell_type": "code",
   "execution_count": 21,
   "metadata": {},
   "outputs": [
    {
     "name": "stdout",
     "output_type": "stream",
     "text": [
      "shape of X_train,y_train = (445, 278, 278, 3),(445, 1) \n",
      "shape of X_cv,y_cv = (56, 278, 278, 3),(56, 1) \n",
      "shape of X_test,y_test = (56, 278, 278, 3),(56, 1)\n"
     ]
    }
   ],
   "source": [
    "print(f\"shape of X_train,y_train = {x_train.shape},{y_train.shape} \\n\"+\n",
    "      f\"shape of X_cv,y_cv = {x_cv.shape},{y_cv.shape} \\n\"+\n",
    "      f\"shape of X_test,y_test = {x_test.shape},{y_test.shape}\")"
   ]
  },
  {
   "cell_type": "code",
   "execution_count": 22,
   "metadata": {},
   "outputs": [
    {
     "name": "stdout",
     "output_type": "stream",
     "text": [
      "After reshaping : \n",
      "shape of X_train,y_train = (445, 231852),(445, 1) \n",
      "shape of X_cv,y_cv = (56, 231852),(56, 1) \n",
      "shape of X_test,y_test = (56, 231852),(56, 1)\n"
     ]
    }
   ],
   "source": [
    "features=278*278*3\n",
    "\n",
    "x_train_reshaped=x_train.reshape((445,features))\n",
    "x_cv_reshaped=x_cv.reshape((56,features))\n",
    "x_test_reshaped=x_test.reshape((56,features))\n",
    "\n",
    "print(\"After reshaping : \")\n",
    "print(f\"shape of X_train,y_train = {x_train_reshaped.shape},{y_train.shape} \\n\"+\n",
    "      f\"shape of X_cv,y_cv = {x_cv_reshaped.shape},{y_cv.shape} \\n\"+\n",
    "      f\"shape of X_test,y_test = {x_test_reshaped.shape},{y_test.shape}\")"
   ]
  },
  {
   "cell_type": "code",
   "execution_count": 23,
   "metadata": {},
   "outputs": [],
   "source": [
    "def build_model():\n",
    "    tf.random.set_seed(42)\n",
    "\n",
    "    model_1 = Sequential([\n",
    "        Dense(units=278, activation='relu', name='layer_1',kernel_regularizer=l2(0.1)),\n",
    "        Dense(units=128, activation='relu', name='layer_2',kernel_regularizer=l2(0.1)),\n",
    "        Dense(units=1, activation='linear', name='layer_3',kernel_regularizer=l2(0.1))\n",
    "    ], name='model_1')\n",
    "\n",
    "    model_2 = Sequential([\n",
    "        Dense(units=640, activation='relu', name='layer_1',kernel_regularizer=l2(0.1)),\n",
    "        Dense(units=325, activation='relu', name='layer_2',kernel_regularizer=l2(0.1)),\n",
    "        Dense(units=120, activation='relu', name='layer_3',kernel_regularizer=l2(0.1)),\n",
    "        Dense(units=1, activation='linear', name='layer_4',kernel_regularizer=l2(0.1))\n",
    "    ], name='model_2')\n",
    "\n",
    "    model_3 = Sequential([\n",
    "        Dense(units=278, activation='relu', name='layer_1',kernel_regularizer=l2(0.1)),\n",
    "        Dense(units=168, activation='relu', name='layer_2',kernel_regularizer=l2(0.1)),\n",
    "        Dense(units=84, activation='relu', name='layer_3',kernel_regularizer=l2(0.1)),\n",
    "        Dense(units=42, activation='relu', name='layer_4',kernel_regularizer=l2(0.1)),\n",
    "        Dense(units=21, activation='relu', name='layer_5',kernel_regularizer=l2(0.1)),\n",
    "        Dense(units=1, activation='linear', name='layer_6',kernel_regularizer=l2(0.1))\n",
    "    ], name='model_3')\n",
    "\n",
    "    model_4 = Sequential([\n",
    "        Dense(units=640, activation='relu', name='layer_1',kernel_regularizer=l2(0.1)),\n",
    "        Dense(units=325, activation='relu', name='layer_2',kernel_regularizer=l2(0.1)),\n",
    "        Dense(units=240, activation='relu', name='layer_3',kernel_regularizer=l2(0.1)),\n",
    "        Dense(units=120, activation='relu', name='layer_4',kernel_regularizer=l2(0.1)),\n",
    "        Dense(units=120, activation='relu', name='layer_5',kernel_regularizer=l2(0.1)),\n",
    "        Dense(units=40, activation='relu', name='layer_6',kernel_regularizer=l2(0.1)),\n",
    "        Dense(units=20, activation='relu', name='layer_7',kernel_regularizer=l2(0.1)),\n",
    "        Dense(units=1, activation='linear', name='layer_8',kernel_regularizer=l2(0.1))\n",
    "    ], name='model_4')\n",
    "\n",
    "    return [model_1, model_2, model_3, model_4]"
   ]
  },
  {
   "cell_type": "code",
   "execution_count": 24,
   "metadata": {},
   "outputs": [
    {
     "name": "stdout",
     "output_type": "stream",
     "text": [
      "Training model model_1..........\n",
      "Epoch 1/10\n",
      "\u001b[1m14/14\u001b[0m \u001b[32m━━━━━━━━━━━━━━━━━━━━\u001b[0m\u001b[37m\u001b[0m \u001b[1m15s\u001b[0m 868ms/step - loss: 9370.1143\n",
      "Epoch 2/10\n",
      "\u001b[1m14/14\u001b[0m \u001b[32m━━━━━━━━━━━━━━━━━━━━\u001b[0m\u001b[37m\u001b[0m \u001b[1m12s\u001b[0m 848ms/step - loss: 2925.5964\n",
      "Epoch 3/10\n",
      "\u001b[1m14/14\u001b[0m \u001b[32m━━━━━━━━━━━━━━━━━━━━\u001b[0m\u001b[37m\u001b[0m \u001b[1m12s\u001b[0m 851ms/step - loss: 4278.8926\n",
      "Epoch 4/10\n",
      "\u001b[1m14/14\u001b[0m \u001b[32m━━━━━━━━━━━━━━━━━━━━\u001b[0m\u001b[37m\u001b[0m \u001b[1m12s\u001b[0m 856ms/step - loss: 4389.1279\n",
      "Epoch 5/10\n",
      "\u001b[1m14/14\u001b[0m \u001b[32m━━━━━━━━━━━━━━━━━━━━\u001b[0m\u001b[37m\u001b[0m \u001b[1m12s\u001b[0m 872ms/step - loss: 1177.6036\n",
      "Epoch 6/10\n",
      "\u001b[1m14/14\u001b[0m \u001b[32m━━━━━━━━━━━━━━━━━━━━\u001b[0m\u001b[37m\u001b[0m \u001b[1m13s\u001b[0m 899ms/step - loss: 972.4918\n",
      "Epoch 7/10\n",
      "\u001b[1m14/14\u001b[0m \u001b[32m━━━━━━━━━━━━━━━━━━━━\u001b[0m\u001b[37m\u001b[0m \u001b[1m13s\u001b[0m 905ms/step - loss: 983.0240\n",
      "Epoch 8/10\n",
      "\u001b[1m14/14\u001b[0m \u001b[32m━━━━━━━━━━━━━━━━━━━━\u001b[0m\u001b[37m\u001b[0m \u001b[1m13s\u001b[0m 900ms/step - loss: 1231.1155\n",
      "Epoch 9/10\n",
      "\u001b[1m14/14\u001b[0m \u001b[32m━━━━━━━━━━━━━━━━━━━━\u001b[0m\u001b[37m\u001b[0m \u001b[1m13s\u001b[0m 921ms/step - loss: 689.5381\n",
      "Epoch 10/10\n",
      "\u001b[1m14/14\u001b[0m \u001b[32m━━━━━━━━━━━━━━━━━━━━\u001b[0m\u001b[37m\u001b[0m \u001b[1m13s\u001b[0m 905ms/step - loss: 506.8055\n",
      "Done....!\n",
      "\u001b[1m14/14\u001b[0m \u001b[32m━━━━━━━━━━━━━━━━━━━━\u001b[0m\u001b[37m\u001b[0m \u001b[1m1s\u001b[0m 58ms/step\n",
      "\u001b[1m2/2\u001b[0m \u001b[32m━━━━━━━━━━━━━━━━━━━━\u001b[0m\u001b[37m\u001b[0m \u001b[1m0s\u001b[0m 44ms/step\n",
      "Training model model_2..........\n",
      "Epoch 1/10\n",
      "\u001b[1m14/14\u001b[0m \u001b[32m━━━━━━━━━━━━━━━━━━━━\u001b[0m\u001b[37m\u001b[0m \u001b[1m37s\u001b[0m 2s/step - loss: 17019.3516\n",
      "Epoch 2/10\n",
      "\u001b[1m14/14\u001b[0m \u001b[32m━━━━━━━━━━━━━━━━━━━━\u001b[0m\u001b[37m\u001b[0m \u001b[1m28s\u001b[0m 2s/step - loss: 6942.2573\n",
      "Epoch 3/10\n",
      "\u001b[1m14/14\u001b[0m \u001b[32m━━━━━━━━━━━━━━━━━━━━\u001b[0m\u001b[37m\u001b[0m \u001b[1m41s\u001b[0m 2s/step - loss: 6555.2500\n",
      "Epoch 4/10\n",
      "\u001b[1m14/14\u001b[0m \u001b[32m━━━━━━━━━━━━━━━━━━━━\u001b[0m\u001b[37m\u001b[0m \u001b[1m28s\u001b[0m 2s/step - loss: 4380.5898\n",
      "Epoch 5/10\n",
      "\u001b[1m14/14\u001b[0m \u001b[32m━━━━━━━━━━━━━━━━━━━━\u001b[0m\u001b[37m\u001b[0m \u001b[1m29s\u001b[0m 2s/step - loss: 1838.7698\n",
      "Epoch 6/10\n",
      "\u001b[1m14/14\u001b[0m \u001b[32m━━━━━━━━━━━━━━━━━━━━\u001b[0m\u001b[37m\u001b[0m \u001b[1m40s\u001b[0m 2s/step - loss: 1127.7266\n",
      "Epoch 7/10\n",
      "\u001b[1m14/14\u001b[0m \u001b[32m━━━━━━━━━━━━━━━━━━━━\u001b[0m\u001b[37m\u001b[0m \u001b[1m28s\u001b[0m 2s/step - loss: 1479.0071\n",
      "Epoch 8/10\n",
      "\u001b[1m14/14\u001b[0m \u001b[32m━━━━━━━━━━━━━━━━━━━━\u001b[0m\u001b[37m\u001b[0m \u001b[1m28s\u001b[0m 2s/step - loss: 1617.5283\n",
      "Epoch 9/10\n",
      "\u001b[1m14/14\u001b[0m \u001b[32m━━━━━━━━━━━━━━━━━━━━\u001b[0m\u001b[37m\u001b[0m \u001b[1m28s\u001b[0m 2s/step - loss: 632.4731\n",
      "Epoch 10/10\n",
      "\u001b[1m14/14\u001b[0m \u001b[32m━━━━━━━━━━━━━━━━━━━━\u001b[0m\u001b[37m\u001b[0m \u001b[1m28s\u001b[0m 2s/step - loss: 516.2276\n",
      "Done....!\n",
      "\u001b[1m14/14\u001b[0m \u001b[32m━━━━━━━━━━━━━━━━━━━━\u001b[0m\u001b[37m\u001b[0m \u001b[1m2s\u001b[0m 121ms/step\n",
      "\u001b[1m2/2\u001b[0m \u001b[32m━━━━━━━━━━━━━━━━━━━━\u001b[0m\u001b[37m\u001b[0m \u001b[1m0s\u001b[0m 118ms/step\n",
      "Training model model_3..........\n",
      "Epoch 1/10\n",
      "\u001b[1m14/14\u001b[0m \u001b[32m━━━━━━━━━━━━━━━━━━━━\u001b[0m\u001b[37m\u001b[0m \u001b[1m16s\u001b[0m 918ms/step - loss: 4499.4878\n",
      "Epoch 2/10\n",
      "\u001b[1m14/14\u001b[0m \u001b[32m━━━━━━━━━━━━━━━━━━━━\u001b[0m\u001b[37m\u001b[0m \u001b[1m13s\u001b[0m 912ms/step - loss: 1858.4546\n",
      "Epoch 3/10\n",
      "\u001b[1m14/14\u001b[0m \u001b[32m━━━━━━━━━━━━━━━━━━━━\u001b[0m\u001b[37m\u001b[0m \u001b[1m13s\u001b[0m 893ms/step - loss: 1566.7949\n",
      "Epoch 4/10\n",
      "\u001b[1m14/14\u001b[0m \u001b[32m━━━━━━━━━━━━━━━━━━━━\u001b[0m\u001b[37m\u001b[0m \u001b[1m12s\u001b[0m 889ms/step - loss: 1028.3446\n",
      "Epoch 5/10\n",
      "\u001b[1m14/14\u001b[0m \u001b[32m━━━━━━━━━━━━━━━━━━━━\u001b[0m\u001b[37m\u001b[0m \u001b[1m13s\u001b[0m 888ms/step - loss: 782.2556\n",
      "Epoch 6/10\n",
      "\u001b[1m14/14\u001b[0m \u001b[32m━━━━━━━━━━━━━━━━━━━━\u001b[0m\u001b[37m\u001b[0m \u001b[1m13s\u001b[0m 897ms/step - loss: 635.5180\n",
      "Epoch 7/10\n",
      "\u001b[1m14/14\u001b[0m \u001b[32m━━━━━━━━━━━━━━━━━━━━\u001b[0m\u001b[37m\u001b[0m \u001b[1m21s\u001b[0m 891ms/step - loss: 773.7390\n",
      "Epoch 8/10\n",
      "\u001b[1m14/14\u001b[0m \u001b[32m━━━━━━━━━━━━━━━━━━━━\u001b[0m\u001b[37m\u001b[0m \u001b[1m13s\u001b[0m 899ms/step - loss: 668.5660\n",
      "Epoch 9/10\n",
      "\u001b[1m14/14\u001b[0m \u001b[32m━━━━━━━━━━━━━━━━━━━━\u001b[0m\u001b[37m\u001b[0m \u001b[1m13s\u001b[0m 905ms/step - loss: 359.4731\n",
      "Epoch 10/10\n",
      "\u001b[1m14/14\u001b[0m \u001b[32m━━━━━━━━━━━━━━━━━━━━\u001b[0m\u001b[37m\u001b[0m \u001b[1m13s\u001b[0m 898ms/step - loss: 253.6851\n",
      "Done....!\n",
      "\u001b[1m14/14\u001b[0m \u001b[32m━━━━━━━━━━━━━━━━━━━━\u001b[0m\u001b[37m\u001b[0m \u001b[1m1s\u001b[0m 77ms/step\n",
      "\u001b[1m2/2\u001b[0m \u001b[32m━━━━━━━━━━━━━━━━━━━━\u001b[0m\u001b[37m\u001b[0m \u001b[1m0s\u001b[0m 61ms/step\n",
      "Training model model_4..........\n",
      "Epoch 1/10\n",
      "\u001b[1m14/14\u001b[0m \u001b[32m━━━━━━━━━━━━━━━━━━━━\u001b[0m\u001b[37m\u001b[0m \u001b[1m35s\u001b[0m 2s/step - loss: 3757.6108\n",
      "Epoch 2/10\n",
      "\u001b[1m14/14\u001b[0m \u001b[32m━━━━━━━━━━━━━━━━━━━━\u001b[0m\u001b[37m\u001b[0m \u001b[1m28s\u001b[0m 2s/step - loss: 1357.1405\n",
      "Epoch 3/10\n",
      "\u001b[1m14/14\u001b[0m \u001b[32m━━━━━━━━━━━━━━━━━━━━\u001b[0m\u001b[37m\u001b[0m \u001b[1m28s\u001b[0m 2s/step - loss: 1523.3179\n",
      "Epoch 4/10\n",
      "\u001b[1m14/14\u001b[0m \u001b[32m━━━━━━━━━━━━━━━━━━━━\u001b[0m\u001b[37m\u001b[0m \u001b[1m28s\u001b[0m 2s/step - loss: 1314.4508\n",
      "Epoch 5/10\n",
      "\u001b[1m14/14\u001b[0m \u001b[32m━━━━━━━━━━━━━━━━━━━━\u001b[0m\u001b[37m\u001b[0m \u001b[1m28s\u001b[0m 2s/step - loss: 709.9410\n",
      "Epoch 6/10\n",
      "\u001b[1m14/14\u001b[0m \u001b[32m━━━━━━━━━━━━━━━━━━━━\u001b[0m\u001b[37m\u001b[0m \u001b[1m41s\u001b[0m 2s/step - loss: 464.4030\n",
      "Epoch 7/10\n",
      "\u001b[1m14/14\u001b[0m \u001b[32m━━━━━━━━━━━━━━━━━━━━\u001b[0m\u001b[37m\u001b[0m \u001b[1m28s\u001b[0m 2s/step - loss: 463.6107\n",
      "Epoch 8/10\n",
      "\u001b[1m14/14\u001b[0m \u001b[32m━━━━━━━━━━━━━━━━━━━━\u001b[0m\u001b[37m\u001b[0m \u001b[1m28s\u001b[0m 2s/step - loss: 310.8614\n",
      "Epoch 9/10\n",
      "\u001b[1m14/14\u001b[0m \u001b[32m━━━━━━━━━━━━━━━━━━━━\u001b[0m\u001b[37m\u001b[0m \u001b[1m28s\u001b[0m 2s/step - loss: 248.3128\n",
      "Epoch 10/10\n",
      "\u001b[1m14/14\u001b[0m \u001b[32m━━━━━━━━━━━━━━━━━━━━\u001b[0m\u001b[37m\u001b[0m \u001b[1m28s\u001b[0m 2s/step - loss: 357.3974\n",
      "Done....!\n",
      "\u001b[1m14/14\u001b[0m \u001b[32m━━━━━━━━━━━━━━━━━━━━\u001b[0m\u001b[37m\u001b[0m \u001b[1m2s\u001b[0m 130ms/step\n",
      "\u001b[1m2/2\u001b[0m \u001b[32m━━━━━━━━━━━━━━━━━━━━\u001b[0m\u001b[37m\u001b[0m \u001b[1m0s\u001b[0m 109ms/step\n"
     ]
    }
   ],
   "source": [
    "J_trains=[]\n",
    "J_cvs=[]\n",
    "histories=[]\n",
    "models=build_model()\n",
    "for model in models:\n",
    "    model.compile(optimizer=Adam(learning_rate=0.001),loss=BinaryCrossentropy(from_logits=True))\n",
    "\n",
    "    print(f\"Training model {model.name}..........\")\n",
    "    history=model.fit(x_train_reshaped,y_train,epochs=10)\n",
    "    print(\"Done....!\")\n",
    "    histories.append(history)\n",
    "\n",
    "    \n",
    "    #J_train\n",
    "    logits_train=model.predict(x_train_reshaped)\n",
    "    yhat_train=tf.nn.sigmoid(logits_train)\n",
    "    yhat_train=np.where(yhat_train>=0.5,1,0)\n",
    "    J_train=np.mean(yhat_train!=y_train)\n",
    "    J_trains.append(J_train)\n",
    "\n",
    "    #J_cv\n",
    "    logits_cv=model.predict(x_cv_reshaped)\n",
    "    yhat_cv=tf.nn.sigmoid(logits_cv)\n",
    "    yhat_cv=np.where(yhat_cv>=0.5,1,0)\n",
    "    J_cv=np.mean(yhat_cv!=y_cv)\n",
    "    J_cvs.append(J_cv)\n",
    "\n"
   ]
  },
  {
   "cell_type": "code",
   "execution_count": 25,
   "metadata": {},
   "outputs": [
    {
     "name": "stdout",
     "output_type": "stream",
     "text": [
      "RESULTS ======>\n",
      "model_1....... : J_train = 0.24943820224719102  J_cv = 0.48214285714285715  \n",
      "model_2....... : J_train = 0.3685393258426966  J_cv = 0.5  \n",
      "model_3....... : J_train = 0.48314606741573035  J_cv = 0.5357142857142857  \n",
      "model_4....... : J_train = 0.5123595505617977  J_cv = 0.4642857142857143  \n"
     ]
    }
   ],
   "source": [
    "print(\"RESULTS ======>\")\n",
    "for i in range(len(J_trains)):\n",
    "    print(f\"{models[i].name}....... : \" + \n",
    "          f\"J_train = {J_trains[i]}  \" +\n",
    "          f\"J_cv = {J_cvs[i]}  \")"
   ]
  },
  {
   "cell_type": "code",
   "execution_count": 26,
   "metadata": {},
   "outputs": [
    {
     "data": {
      "image/png": "[encoded data removed]",
      "text/plain": [
       "<Figure size 640x480 with 1 Axes>"
      ]
     },
     "metadata": {},
     "output_type": "display_data"
    }
   ],
   "source": [
    "x_axis=np.arange(4)\n",
    "plt.plot(x_axis,J_trains,label='J_train')\n",
    "plt.plot(x_axis,J_cvs,label='J_cv')\n",
    "plt.legend()\n",
    "plt.show()"
   ]
  }
 ],
 "metadata": {
  "kernelspec": {
   "display_name": "Python 3",
   "language": "python",
   "name": "python3"
  },
  "language_info": {
   "codemirror_mode": {
    "name": "ipython",
    "version": 3
   },
   "file_extension": ".py",
   "mimetype": "text/x-python",
   "name": "python",
   "nbconvert_exporter": "python",
   "pygments_lexer": "ipython3",
   "version": "3.10.10"
  }
 },
 "nbformat": 4,
 "nbformat_minor": 2
}
