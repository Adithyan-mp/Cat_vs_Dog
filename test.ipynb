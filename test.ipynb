{
 "cells": [
  {
   "cell_type": "code",
   "execution_count": 9,
   "metadata": {},
   "outputs": [],
   "source": [
    "import numpy as np\n",
    "import os\n",
    "import seaborn as sns\n",
    "import matplotlib.pyplot as plt\n",
    "import pandas as pd\n",
    "import tensorflow as tf\n",
    "from tensorflow.keras.preprocessing import image_dataset_from_directory\n",
    "from tensorflow.keras.models import Sequential\n",
    "from tensorflow.keras.layers import Dense,Flatten\n",
    "from tensorflow.keras.losses import BinaryCrossentropy,SparseCategoricalCrossentropy\n",
    "from tensorflow.keras.optimizers import Adam\n",
    "from tensorflow.keras.regularizers import l2\n",
    "from sklearn.metrics import confusion_matrix\n",
    "from sklearn.preprocessing import StandardScaler"
   ]
  },
  {
   "cell_type": "code",
   "execution_count": 10,
   "metadata": {},
   "outputs": [
    {
     "name": "stdout",
     "output_type": "stream",
     "text": [
      "After reshaping : \n",
      "shape of X_train,y_train = (445, 231852),(445, 1) \n",
      "shape of X_cv,y_cv = (56, 231852),(56, 1) \n",
      "shape of X_test,y_test = (56, 231852),(56, 1)\n"
     ]
    }
   ],
   "source": [
    "dir_path='prepared_dataset'\n",
    "\n",
    "#training dataset\n",
    "x_train=np.load(os.path.join(dir_path,'train_images.npy'))\n",
    "y_train=np.load(os.path.join(dir_path,'train_labels.npy'))\n",
    "\n",
    "#cross validation dataset\n",
    "x_cv=np.load(os.path.join(dir_path,'cross_validation_images.npy'))\n",
    "y_cv=np.load(os.path.join(dir_path,'cross_validation_labels.npy'))\n",
    "\n",
    "#test dataset\n",
    "x_test=np.load(os.path.join(dir_path,'test_images.npy'))\n",
    "y_test=np.load(os.path.join(dir_path,'test_labels.npy'))\n",
    "\n",
    "y_train=np.expand_dims(y_train,axis=1)\n",
    "y_cv=np.expand_dims(y_cv,axis=1)\n",
    "y_test=np.expand_dims(y_test,axis=1)\n",
    "\n",
    "features=278*278*3\n",
    "\n",
    "x_train_reshaped=x_train.reshape((445,features))\n",
    "x_cv_reshaped=x_cv.reshape((56,features))\n",
    "x_test_reshaped=x_test.reshape((56,features))\n",
    "\n",
    "print(\"After reshaping : \")\n",
    "print(f\"shape of X_train,y_train = {x_train_reshaped.shape},{y_train.shape} \\n\"+\n",
    "      f\"shape of X_cv,y_cv = {x_cv_reshaped.shape},{y_cv.shape} \\n\"+\n",
    "      f\"shape of X_test,y_test = {x_test_reshaped.shape},{y_test.shape}\")"
   ]
  },
  {
   "cell_type": "code",
   "execution_count": 11,
   "metadata": {},
   "outputs": [],
   "source": [
    "scaler=StandardScaler()\n",
    "x_train_reshaped_scaled=scaler.fit_transform(x_train_reshaped)\n",
    "x_cv_reshaped_scaled=scaler.transform(x_cv_reshaped)"
   ]
  },
  {
   "cell_type": "code",
   "execution_count": 12,
   "metadata": {},
   "outputs": [],
   "source": [
    "model = Sequential([\n",
    "        tf.keras.Input((231852,)),\n",
    "        Dense(units=940, activation='relu'),\n",
    "        Dense(units=360,activation='relu'),\n",
    "        Dense(units=160,activation='relu'),\n",
    "        Dense(units=80,activation='relu'),\n",
    "        Dense(units=20,activation='relu'),\n",
    "        Dense(units=2, activation='linear')\n",
    "    ], name='model')"
   ]
  },
  {
   "cell_type": "code",
   "execution_count": 13,
   "metadata": {},
   "outputs": [
    {
     "name": "stdout",
     "output_type": "stream",
     "text": [
      "Epoch 1/100\n",
      "14/14 [==============================] - 31s 2s/step - loss: 1146.7880\n",
      "Epoch 2/100\n",
      "14/14 [==============================] - 28s 2s/step - loss: 191.6538\n",
      "Epoch 3/100\n",
      "14/14 [==============================] - 28s 2s/step - loss: 36.6689\n",
      "Epoch 4/100\n",
      "14/14 [==============================] - 28s 2s/step - loss: 5.7125\n",
      "Epoch 5/100\n",
      "14/14 [==============================] - 28s 2s/step - loss: 2.0829\n",
      "Epoch 6/100\n",
      "14/14 [==============================] - 28s 2s/step - loss: 2.0621\n",
      "Epoch 7/100\n",
      "14/14 [==============================] - 29s 2s/step - loss: 1.3981\n",
      "Epoch 8/100\n",
      "14/14 [==============================] - 30s 2s/step - loss: 0.9466\n",
      "Epoch 9/100\n",
      "14/14 [==============================] - 30s 2s/step - loss: 1.1661\n",
      "Epoch 10/100\n",
      "14/14 [==============================] - 30s 2s/step - loss: 0.7948\n",
      "Epoch 11/100\n",
      "14/14 [==============================] - 30s 2s/step - loss: 0.6925\n",
      "Epoch 12/100\n",
      "14/14 [==============================] - 30s 2s/step - loss: 0.7838\n",
      "Epoch 13/100\n",
      "14/14 [==============================] - 30s 2s/step - loss: 0.5136\n",
      "Epoch 14/100\n",
      "14/14 [==============================] - 31s 2s/step - loss: 0.3971\n",
      "Epoch 15/100\n",
      "14/14 [==============================] - 30s 2s/step - loss: 0.3391\n",
      "Epoch 16/100\n",
      "14/14 [==============================] - 30s 2s/step - loss: 0.3760\n",
      "Epoch 17/100\n",
      "14/14 [==============================] - 30s 2s/step - loss: 0.2923\n",
      "Epoch 18/100\n",
      "14/14 [==============================] - 30s 2s/step - loss: 0.2917\n",
      "Epoch 19/100\n",
      "14/14 [==============================] - 30s 2s/step - loss: 0.2819\n",
      "Epoch 20/100\n",
      "14/14 [==============================] - 30s 2s/step - loss: 0.2980\n",
      "Epoch 21/100\n",
      "14/14 [==============================] - 30s 2s/step - loss: 0.2699\n",
      "Epoch 22/100\n",
      "14/14 [==============================] - 31s 2s/step - loss: 0.2448\n",
      "Epoch 23/100\n",
      "14/14 [==============================] - 30s 2s/step - loss: 1.0269\n",
      "Epoch 24/100\n",
      "14/14 [==============================] - 30s 2s/step - loss: 0.4526\n",
      "Epoch 25/100\n",
      "14/14 [==============================] - 30s 2s/step - loss: 0.3936\n",
      "Epoch 26/100\n",
      "14/14 [==============================] - 30s 2s/step - loss: 0.4528\n",
      "Epoch 27/100\n",
      "14/14 [==============================] - 30s 2s/step - loss: 0.3960\n",
      "Epoch 28/100\n",
      "14/14 [==============================] - 30s 2s/step - loss: 0.5211\n",
      "Epoch 29/100\n",
      "14/14 [==============================] - 30s 2s/step - loss: 1.2099\n",
      "Epoch 30/100\n",
      "14/14 [==============================] - 30s 2s/step - loss: 0.3545\n",
      "Epoch 31/100\n",
      "14/14 [==============================] - 30s 2s/step - loss: 0.4275\n",
      "Epoch 32/100\n",
      "14/14 [==============================] - 30s 2s/step - loss: 0.7126\n",
      "Epoch 33/100\n",
      "14/14 [==============================] - 30s 2s/step - loss: 1.0129\n",
      "Epoch 34/100\n",
      "14/14 [==============================] - 30s 2s/step - loss: 0.8259\n",
      "Epoch 35/100\n",
      "14/14 [==============================] - 30s 2s/step - loss: 0.5361\n",
      "Epoch 36/100\n",
      "14/14 [==============================] - 30s 2s/step - loss: 0.4709\n",
      "Epoch 37/100\n",
      "14/14 [==============================] - 145s 11s/step - loss: 0.6147\n",
      "Epoch 38/100\n",
      "14/14 [==============================] - 29s 2s/step - loss: 0.6803\n",
      "Epoch 39/100\n",
      "14/14 [==============================] - 28s 2s/step - loss: 0.4786\n",
      "Epoch 40/100\n",
      "14/14 [==============================] - 29s 2s/step - loss: 0.3713\n",
      "Epoch 41/100\n",
      "14/14 [==============================] - 28s 2s/step - loss: 0.3760\n",
      "Epoch 42/100\n",
      "14/14 [==============================] - 28s 2s/step - loss: 0.3552\n",
      "Epoch 43/100\n",
      "14/14 [==============================] - 29s 2s/step - loss: 0.3509\n",
      "Epoch 44/100\n",
      "14/14 [==============================] - 30s 2s/step - loss: 0.3270\n",
      "Epoch 45/100\n",
      "14/14 [==============================] - 30s 2s/step - loss: 0.2848\n",
      "Epoch 46/100\n",
      "14/14 [==============================] - 30s 2s/step - loss: 0.2743\n",
      "Epoch 47/100\n",
      "14/14 [==============================] - 30s 2s/step - loss: 0.2573\n",
      "Epoch 48/100\n",
      "14/14 [==============================] - 30s 2s/step - loss: 0.2440\n",
      "Epoch 49/100\n",
      "14/14 [==============================] - 30s 2s/step - loss: 0.2420\n",
      "Epoch 50/100\n",
      "14/14 [==============================] - 30s 2s/step - loss: 0.2226\n",
      "Epoch 51/100\n",
      "14/14 [==============================] - 31s 2s/step - loss: 0.2168\n",
      "Epoch 52/100\n",
      "14/14 [==============================] - 30s 2s/step - loss: 0.2159\n",
      "Epoch 53/100\n",
      "14/14 [==============================] - 30s 2s/step - loss: 0.3242\n",
      "Epoch 54/100\n",
      "14/14 [==============================] - 30s 2s/step - loss: 0.3319\n",
      "Epoch 55/100\n",
      "14/14 [==============================] - 30s 2s/step - loss: 0.1954\n",
      "Epoch 56/100\n",
      "14/14 [==============================] - 30s 2s/step - loss: 0.2159\n",
      "Epoch 57/100\n",
      "14/14 [==============================] - 30s 2s/step - loss: 0.2157\n",
      "Epoch 58/100\n",
      "14/14 [==============================] - 51s 4s/step - loss: 0.2293\n",
      "Epoch 59/100\n",
      "14/14 [==============================] - 30s 2s/step - loss: 0.2059\n",
      "Epoch 60/100\n",
      "14/14 [==============================] - 30s 2s/step - loss: 0.2094\n",
      "Epoch 61/100\n",
      "14/14 [==============================] - 30s 2s/step - loss: 0.1846\n",
      "Epoch 62/100\n",
      "14/14 [==============================] - 30s 2s/step - loss: 0.1794\n",
      "Epoch 63/100\n",
      "14/14 [==============================] - 30s 2s/step - loss: 0.1973\n",
      "Epoch 64/100\n",
      "14/14 [==============================] - 30s 2s/step - loss: 0.2092\n",
      "Epoch 65/100\n",
      "14/14 [==============================] - 30s 2s/step - loss: 0.3090\n",
      "Epoch 66/100\n",
      "14/14 [==============================] - 30s 2s/step - loss: 0.2393\n",
      "Epoch 67/100\n",
      "14/14 [==============================] - 30s 2s/step - loss: 0.2361\n",
      "Epoch 68/100\n",
      "14/14 [==============================] - 30s 2s/step - loss: 0.2014\n",
      "Epoch 69/100\n",
      "14/14 [==============================] - 30s 2s/step - loss: 0.1808\n",
      "Epoch 70/100\n",
      "14/14 [==============================] - 30s 2s/step - loss: 0.1893\n",
      "Epoch 71/100\n",
      "14/14 [==============================] - 30s 2s/step - loss: 0.1711\n",
      "Epoch 72/100\n",
      "14/14 [==============================] - 30s 2s/step - loss: 0.1536\n",
      "Epoch 73/100\n",
      "14/14 [==============================] - 30s 2s/step - loss: 0.1475\n",
      "Epoch 74/100\n",
      "14/14 [==============================] - 30s 2s/step - loss: 0.1564\n",
      "Epoch 75/100\n",
      "14/14 [==============================] - 30s 2s/step - loss: 0.1427\n",
      "Epoch 76/100\n",
      "14/14 [==============================] - 30s 2s/step - loss: 0.1461\n",
      "Epoch 77/100\n",
      "14/14 [==============================] - 30s 2s/step - loss: 0.1374\n",
      "Epoch 78/100\n",
      "14/14 [==============================] - 30s 2s/step - loss: 0.1335\n",
      "Epoch 79/100\n",
      "14/14 [==============================] - 31s 2s/step - loss: 0.1379\n",
      "Epoch 80/100\n",
      "14/14 [==============================] - 30s 2s/step - loss: 0.1703\n",
      "Epoch 81/100\n",
      "14/14 [==============================] - 31s 2s/step - loss: 0.1312\n",
      "Epoch 82/100\n",
      "14/14 [==============================] - 30s 2s/step - loss: 0.1356\n",
      "Epoch 83/100\n",
      "14/14 [==============================] - 30s 2s/step - loss: 0.1440\n",
      "Epoch 84/100\n",
      "14/14 [==============================] - 30s 2s/step - loss: 0.1801\n",
      "Epoch 85/100\n",
      "14/14 [==============================] - 30s 2s/step - loss: 0.1306\n",
      "Epoch 86/100\n",
      "14/14 [==============================] - 30s 2s/step - loss: 0.1162\n",
      "Epoch 87/100\n",
      "14/14 [==============================] - 30s 2s/step - loss: 0.1108\n",
      "Epoch 88/100\n",
      "14/14 [==============================] - 30s 2s/step - loss: 0.1099\n",
      "Epoch 89/100\n",
      "14/14 [==============================] - 30s 2s/step - loss: 0.1018\n",
      "Epoch 90/100\n",
      "14/14 [==============================] - 30s 2s/step - loss: 0.2851\n",
      "Epoch 91/100\n",
      "14/14 [==============================] - 30s 2s/step - loss: 0.4874\n",
      "Epoch 92/100\n",
      "14/14 [==============================] - 30s 2s/step - loss: 0.6737\n",
      "Epoch 93/100\n",
      "14/14 [==============================] - 30s 2s/step - loss: 0.4279\n",
      "Epoch 94/100\n",
      "14/14 [==============================] - 30s 2s/step - loss: 0.2949\n",
      "Epoch 95/100\n",
      "14/14 [==============================] - 30s 2s/step - loss: 0.2746\n",
      "Epoch 96/100\n",
      "14/14 [==============================] - 30s 2s/step - loss: 0.2820\n",
      "Epoch 97/100\n",
      "14/14 [==============================] - 30s 2s/step - loss: 0.2863\n",
      "Epoch 98/100\n",
      "14/14 [==============================] - 30s 2s/step - loss: 0.2937\n",
      "Epoch 99/100\n",
      "14/14 [==============================] - 30s 2s/step - loss: 0.2478\n",
      "Epoch 100/100\n",
      "14/14 [==============================] - 33s 2s/step - loss: 0.2339\n"
     ]
    }
   ],
   "source": [
    "# model.load_weights('model_weights.h5')\n",
    "\n",
    "model.compile(optimizer=Adam(0.01),loss=SparseCategoricalCrossentropy(from_logits=True))\n",
    "\n",
    "history=model.fit(x_train_reshaped_scaled,y_train,epochs=100)"
   ]
  },
  {
   "cell_type": "code",
   "execution_count": 14,
   "metadata": {},
   "outputs": [
    {
     "name": "stdout",
     "output_type": "stream",
     "text": [
      "14/14 [==============================] - 3s 173ms/step\n",
      "2/2 [==============================] - 0s 161ms/step\n",
      "RESULTS ======>\n",
      "J_train = 0.5027244034844085  J_cv = 0.4961734693877551  \n"
     ]
    }
   ],
   "source": [
    "logits_train = model.predict(x_train_reshaped_scaled)\n",
    "\n",
    "yhat_train = tf.nn.softmax(logits_train, axis=1).numpy()\n",
    "prob_train = np.argmax(yhat_train, axis=1)\n",
    "J_train = np.mean(prob_train != y_train)\n",
    "# J_cv\n",
    "logits_cv = model.predict(x_cv_reshaped_scaled)\n",
    "yhat_cv = tf.nn.softmax(logits_cv, axis=1).numpy()\n",
    "prob_cv = np.argmax(yhat_cv, axis=1)\n",
    "J_cv = np.mean(prob_cv != y_cv)\n",
    "\n",
    "\n",
    "print(\"RESULTS ======>\")\n",
    "print(f\"J_train = {J_train}  \" +\n",
    "          f\"J_cv = {J_cv}  \")"
   ]
  },
  {
   "cell_type": "code",
   "execution_count": 15,
   "metadata": {},
   "outputs": [
    {
     "name": "stdout",
     "output_type": "stream",
     "text": [
      "2/2 [==============================] - 0s 163ms/step\n"
     ]
    },
    {
     "data": {
      "text/plain": [
       "<Axes: >"
      ]
     },
     "execution_count": 15,
     "metadata": {},
     "output_type": "execute_result"
    },
    {
     "data": {
      "image/png": "[encoded data removed]",
      "text/plain": [
       "<Figure size 640x480 with 2 Axes>"
      ]
     },
     "metadata": {},
     "output_type": "display_data"
    }
   ],
   "source": [
    "\n",
    "logits_cv = model.predict(x_cv_reshaped_scaled)\n",
    "yhat_cv = tf.nn.softmax(logits_cv, axis=1).numpy()\n",
    "prob_cv = np.argmax(yhat_cv, axis=1)\n",
    "J_cv = np.mean(prob_cv != y_cv)\n",
    "sns.heatmap(confusion_matrix(y_cv,prob_cv),annot=True)"
   ]
  },
  {
   "cell_type": "code",
   "execution_count": 16,
   "metadata": {},
   "outputs": [
    {
     "name": "stdout",
     "output_type": "stream",
     "text": [
      "2/2 [==============================] - 0s 161ms/step\n",
      "0.4846938775510204\n"
     ]
    },
    {
     "data": {
      "image/png": "[encoded data removed]",
      "text/plain": [
       "<Figure size 640x480 with 2 Axes>"
      ]
     },
     "metadata": {},
     "output_type": "display_data"
    }
   ],
   "source": [
    "x_test_reshaped_scaled=scaler.transform(x_test_reshaped)\n",
    "logits_test = model.predict(x_test_reshaped_scaled)\n",
    "yhat_test = tf.nn.softmax(logits_test, axis=1).numpy()\n",
    "prob_test = np.argmax(yhat_test, axis=1)\n",
    "J_test = np.mean(prob_test != y_test)\n",
    "sns.heatmap(confusion_matrix(y_test,prob_test),annot=True)\n",
    "\n",
    "print(J_test)"
   ]
  }
 ],
 "metadata": {
  "kernelspec": {
   "display_name": "base",
   "language": "python",
   "name": "python3"
  },
  "language_info": {
   "codemirror_mode": {
    "name": "ipython",
    "version": 3
   },
   "file_extension": ".py",
   "mimetype": "text/x-python",
   "name": "python",
   "nbconvert_exporter": "python",
   "pygments_lexer": "ipython3",
   "version": "3.10.13"
  }
 },
 "nbformat": 4,
 "nbformat_minor": 2
}
