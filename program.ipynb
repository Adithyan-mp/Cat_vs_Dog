{
 "cells": [
  {
   "cell_type": "code",
   "execution_count": 2,
   "metadata": {},
   "outputs": [
    {
     "name": "stdout",
     "output_type": "stream",
     "text": [
      "WARNING:tensorflow:From c:\\Users\\adith\\anaconda3\\lib\\site-packages\\keras\\src\\losses.py:2976: The name tf.losses.sparse_softmax_cross_entropy is deprecated. Please use tf.compat.v1.losses.sparse_softmax_cross_entropy instead.\n",
      "\n"
     ]
    }
   ],
   "source": [
    "import numpy as np\n",
    "import os\n",
    "import seaborn as sns\n",
    "import matplotlib.pyplot as plt\n",
    "import pandas as pd\n",
    "import tensorflow as tf\n",
    "from tensorflow.keras.preprocessing import image_dataset_from_directory\n",
    "from tensorflow.keras.models import Sequential\n",
    "from tensorflow.keras.layers import Dense,Flatten\n",
    "from tensorflow.keras.losses import BinaryCrossentropy,SparseCategoricalCrossentropy\n",
    "from tensorflow.keras.optimizers import Adam\n",
    "from tensorflow.keras.regularizers import l2\n",
    "from sklearn.metrics import confusion_matrix\n",
    "from sklearn.preprocessing import StandardScaler"
   ]
  },
  {
   "cell_type": "code",
   "execution_count": 3,
   "metadata": {},
   "outputs": [
    {
     "name": "stdout",
     "output_type": "stream",
     "text": [
      "After reshaping : \n",
      "shape of X_train,y_train = (445, 231852),(445, 1) \n",
      "shape of X_cv,y_cv = (56, 231852),(56, 1) \n",
      "shape of X_test,y_test = (56, 231852),(56, 1)\n"
     ]
    }
   ],
   "source": [
    "dir_path='prepared_dataset'\n",
    "\n",
    "#training dataset\n",
    "x_train=np.load(os.path.join(dir_path,'train_images.npy'))\n",
    "y_train=np.load(os.path.join(dir_path,'train_labels.npy'))\n",
    "\n",
    "#cross validation dataset\n",
    "x_cv=np.load(os.path.join(dir_path,'cross_validation_images.npy'))\n",
    "y_cv=np.load(os.path.join(dir_path,'cross_validation_labels.npy'))\n",
    "\n",
    "#test dataset\n",
    "x_test=np.load(os.path.join(dir_path,'test_images.npy'))\n",
    "y_test=np.load(os.path.join(dir_path,'test_labels.npy'))\n",
    "\n",
    "y_train=np.expand_dims(y_train,axis=1)\n",
    "y_cv=np.expand_dims(y_cv,axis=1)\n",
    "y_test=np.expand_dims(y_test,axis=1)\n",
    "\n",
    "features=278*278*3\n",
    "\n",
    "x_train_reshaped=x_train.reshape((445,features))\n",
    "x_cv_reshaped=x_cv.reshape((56,features))\n",
    "x_test_reshaped=x_test.reshape((56,features))\n",
    "\n",
    "print(\"After reshaping : \")\n",
    "print(f\"shape of X_train,y_train = {x_train_reshaped.shape},{y_train.shape} \\n\"+\n",
    "      f\"shape of X_cv,y_cv = {x_cv_reshaped.shape},{y_cv.shape} \\n\"+\n",
    "      f\"shape of X_test,y_test = {x_test_reshaped.shape},{y_test.shape}\")"
   ]
  },
  {
   "cell_type": "code",
   "execution_count": 4,
   "metadata": {},
   "outputs": [],
   "source": [
    "scaler=StandardScaler()\n",
    "x_train_reshaped_scaled=scaler.fit_transform(x_train_reshaped)\n",
    "x_cv_reshaped_scaled=scaler.transform(x_cv_reshaped)"
   ]
  },
  {
   "cell_type": "code",
   "execution_count": 5,
   "metadata": {},
   "outputs": [
    {
     "name": "stdout",
     "output_type": "stream",
     "text": [
      "WARNING:tensorflow:From c:\\Users\\adith\\anaconda3\\lib\\site-packages\\keras\\src\\backend.py:1398: The name tf.executing_eagerly_outside_functions is deprecated. Please use tf.compat.v1.executing_eagerly_outside_functions instead.\n",
      "\n"
     ]
    }
   ],
   "source": [
    "model = Sequential([\n",
    "        tf.keras.Input((231852,)),\n",
    "        Dense(units=840, activation='relu'),\n",
    "        Dense(units=240,activation='relu'),\n",
    "        Dense(units=120,activation='relu'),\n",
    "        Dense(units=60,activation='relu'),\n",
    "        Dense(units=2, activation='linear')\n",
    "    ], name='model')"
   ]
  },
  {
   "cell_type": "code",
   "execution_count": 6,
   "metadata": {},
   "outputs": [
    {
     "name": "stdout",
     "output_type": "stream",
     "text": [
      "Epoch 1/20\n",
      "WARNING:tensorflow:From c:\\Users\\adith\\anaconda3\\lib\\site-packages\\keras\\src\\utils\\tf_utils.py:492: The name tf.ragged.RaggedTensorValue is deprecated. Please use tf.compat.v1.ragged.RaggedTensorValue instead.\n",
      "\n",
      "14/14 [==============================] - 27s 2s/step - loss: 1163.9539\n",
      "Epoch 2/20\n",
      "14/14 [==============================] - 26s 2s/step - loss: 165.7477\n",
      "Epoch 3/20\n",
      "14/14 [==============================] - 26s 2s/step - loss: 26.9202\n",
      "Epoch 4/20\n",
      "14/14 [==============================] - 26s 2s/step - loss: 8.5161\n",
      "Epoch 5/20\n",
      "14/14 [==============================] - 25s 2s/step - loss: 10.2851\n",
      "Epoch 6/20\n",
      "14/14 [==============================] - 25s 2s/step - loss: 6.6951\n",
      "Epoch 7/20\n",
      "14/14 [==============================] - 25s 2s/step - loss: 4.0880\n",
      "Epoch 8/20\n",
      "14/14 [==============================] - 25s 2s/step - loss: 3.1523\n",
      "Epoch 9/20\n",
      "14/14 [==============================] - 25s 2s/step - loss: 1.9044\n",
      "Epoch 10/20\n",
      "14/14 [==============================] - 25s 2s/step - loss: 0.7138\n",
      "Epoch 11/20\n",
      "14/14 [==============================] - 25s 2s/step - loss: 0.5378\n",
      "Epoch 12/20\n",
      "14/14 [==============================] - 25s 2s/step - loss: 0.5430\n",
      "Epoch 13/20\n",
      "14/14 [==============================] - 25s 2s/step - loss: 0.5036\n",
      "Epoch 14/20\n",
      "14/14 [==============================] - 25s 2s/step - loss: 0.6821\n",
      "Epoch 15/20\n",
      "14/14 [==============================] - 26s 2s/step - loss: 0.3290\n",
      "Epoch 16/20\n",
      "14/14 [==============================] - 26s 2s/step - loss: 0.2223\n",
      "Epoch 17/20\n",
      "14/14 [==============================] - 26s 2s/step - loss: 0.1741\n",
      "Epoch 18/20\n",
      "14/14 [==============================] - 26s 2s/step - loss: 0.1804\n",
      "Epoch 19/20\n",
      "14/14 [==============================] - 26s 2s/step - loss: 0.3436\n",
      "Epoch 20/20\n",
      "14/14 [==============================] - 26s 2s/step - loss: 0.1205\n"
     ]
    }
   ],
   "source": [
    "model.compile(optimizer=Adam(0.01),loss=SparseCategoricalCrossentropy(from_logits=True))\n",
    "\n",
    "history=model.fit(x_train_reshaped_scaled,y_train,epochs=20)"
   ]
  },
  {
   "cell_type": "code",
   "execution_count": 7,
   "metadata": {},
   "outputs": [
    {
     "name": "stdout",
     "output_type": "stream",
     "text": [
      "14/14 [==============================] - 2s 147ms/step\n",
      "2/2 [==============================] - 0s 131ms/step\n",
      "RESULTS ======>\n",
      "J_train = 0.4995732862012372  J_cv = 0.49489795918367346  \n"
     ]
    }
   ],
   "source": [
    "logits_train = model.predict(x_train_reshaped_scaled)\n",
    "\n",
    "yhat_train = tf.nn.softmax(logits_train, axis=1).numpy()\n",
    "prob_train = np.argmax(yhat_train, axis=1)\n",
    "J_train = np.mean(prob_train != y_train)\n",
    "# J_cv\n",
    "logits_cv = model.predict(x_cv_reshaped_scaled)\n",
    "yhat_cv = tf.nn.softmax(logits_cv, axis=1).numpy()\n",
    "prob_cv = np.argmax(yhat_cv, axis=1)\n",
    "J_cv = np.mean(prob_cv != y_cv)\n",
    "\n",
    "\n",
    "print(\"RESULTS ======>\")\n",
    "print(f\"J_train = {J_train}  \" +\n",
    "          f\"J_cv = {J_cv}  \")"
   ]
  },
  {
   "cell_type": "code",
   "execution_count": 8,
   "metadata": {},
   "outputs": [
    {
     "name": "stdout",
     "output_type": "stream",
     "text": [
      "2/2 [==============================] - 0s 123ms/step\n"
     ]
    },
    {
     "data": {
      "text/plain": [
       "<Axes: >"
      ]
     },
     "execution_count": 8,
     "metadata": {},
     "output_type": "execute_result"
    },
    {
     "data": {
      "image/png": "[encoded data removed]",
      "text/plain": [
       "<Figure size 640x480 with 2 Axes>"
      ]
     },
     "metadata": {},
     "output_type": "display_data"
    }
   ],
   "source": [
    "logits_cv = model.predict(x_cv_reshaped_scaled)\n",
    "yhat_cv = tf.nn.softmax(logits_cv, axis=1).numpy()\n",
    "prob_cv = np.argmax(yhat_cv, axis=1)\n",
    "J_cv = np.mean(prob_cv != y_cv)\n",
    "sns.heatmap(confusion_matrix(y_cv,prob_cv),annot=True)"
   ]
  }
 ],
 "metadata": {
  "kernelspec": {
   "display_name": "base",
   "language": "python",
   "name": "python3"
  },
  "language_info": {
   "codemirror_mode": {
    "name": "ipython",
    "version": 3
   },
   "file_extension": ".py",
   "mimetype": "text/x-python",
   "name": "python",
   "nbconvert_exporter": "python",
   "pygments_lexer": "ipython3",
   "version": "3.10.13"
  }
 },
 "nbformat": 4,
 "nbformat_minor": 2
}
